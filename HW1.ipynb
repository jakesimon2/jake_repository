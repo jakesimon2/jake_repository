{
 "cells": [
  {
   "cell_type": "markdown",
   "metadata": {
    "id": "DoO-oCQXottz"
   },
   "source": [
    "# Homework 1\n",
    "\n",
    "## Jake Simon\n",
    "\n",
    "**DUE OCT 27th by 11:59PM**\n",
    "\n",
    "Homework 1 is done in Jupyter Notebook to give you a chance to familiarize yourself to this powerful tool for data analysis. \n",
    "\n",
    "In Jupyter Notebook, codes and texts are executed in cells. Texts are written in Markdown cell, as you can see in the homework instructions below. Codes are written in code cells. Cells are run one at a time. You can change the cell type by navigating to Cell -> Cell Type.\n",
    "\n",
    "There are spaces for you to enter your answers to the questions, either in code or text. Feel free to add more cells if you need (likely).\n",
    "\n",
    "In many parts, some Scikit-learn functions and classes have already been imported to give you leads on what you may need to use. You still need to refer to the Scikit-learn documentation to learn how the classes and methods work. You can use other publicly available libraries and packages if you want, as long as they finish the work. \n",
    "\n",
    "You are expected to turn in a **pdf version** of this notebook with all your **codes, results, and figures**. Make sure the figures and results are visible as you want them to appear in the pdf before turning it in. Please do not modify the instructions as doing so will limit our ability to follow and grade your answers."
   ]
  },
  {
   "cell_type": "markdown",
   "metadata": {
    "id": "9QnIt4o0qmGP"
   },
   "source": [
    "## Problem 1\n",
    "\n",
    "Increase your familiarity with Github. This problem needs to be finished with a partner. Follow these steps to finish the problem:\n",
    "\n",
    "1.   Create a github account.\n",
    "2.   Create a public repository and push a helloworld.py file.\n",
    "3.   Person $A$ forks Person $B$'s repo and modifies the file, then pushes to their own fork and finally creates a pull request for person B to merge.\n",
    "4.   Person $B$ reviews and merges the pull request.\n",
    "5.   Do the same for $A$ and $B$ reversed.\n",
    "\n",
    "Jake's repo: https://github.com/131FinalProject/jake_repository\n",
    "\n",
    "Gavin's repo: https://github.com/131FinalProject/pstat197a_hw1"
   ]
  },
  {
   "cell_type": "markdown",
   "metadata": {
    "id": "qKgBcjsyott0"
   },
   "source": [
    "## Problem 2\n",
    "\n",
    "In this problem, you will consider solving the least-squared problem in two different approaches, one using Gradient Descent and the other using the formula. After that, you will compare the results you get from both approaches."
   ]
  },
  {
   "cell_type": "markdown",
   "metadata": {
    "id": "afphJhGpott1"
   },
   "source": [
    "a) Load the 1-D data and the labels from **'linear_regression.csv'**. The first column contains the data values and the second column contains the labels. Store the data in a variable ***X***. Similarly, store the labels in a variable ***y***."
   ]
  },
  {
   "cell_type": "code",
   "execution_count": 2,
   "metadata": {
    "id": "nDFz3_7oott1"
   },
   "outputs": [],
   "source": [
    "import pandas as pd\n",
    "import numpy as np\n",
    "import matplotlib.pyplot as plt\n",
    "from sklearn.linear_model import LinearRegression, SGDRegressor\n",
    "\n",
    "X = pd.read_csv('linear_regression.csv', header=None).iloc[:,0].values.reshape(-1,1)\n",
    "y = pd.read_csv('linear_regression.csv', header=None).iloc[:,1].values.reshape(-1,1)"
   ]
  },
  {
   "cell_type": "markdown",
   "metadata": {
    "id": "3SVBu5DHott3"
   },
   "source": [
    "b) Fit a linear regression model, in the form $Ax + b$, using the formula. Print out the parameters $A$ and $b$."
   ]
  },
  {
   "cell_type": "code",
   "execution_count": 3,
   "metadata": {
    "id": "9Fy8FHUHott4"
   },
   "outputs": [
    {
     "name": "stdout",
     "output_type": "stream",
     "text": [
      "A =  7.526346995925662\n",
      "b =  0.20313216364663322\n"
     ]
    }
   ],
   "source": [
    "lin_reg = LinearRegression()\n",
    "\n",
    "lin_reg.fit(X,y)\n",
    "y_hat = lin_reg.predict(X)\n",
    "\n",
    "# Returns the A and b values from the model\n",
    "A = lin_reg.coef_[0,0]\n",
    "b = lin_reg.intercept_[0]\n",
    "print(\"A = \", A)\n",
    "print(\"b = \", b)"
   ]
  },
  {
   "cell_type": "markdown",
   "metadata": {
    "id": "ljnZQZS6ott5"
   },
   "source": [
    "Visualize your result in a 2-D plot. Your plot should show the data points and the line $Ax + b$."
   ]
  },
  {
   "cell_type": "code",
   "execution_count": 4,
   "metadata": {
    "id": "8ayp0_6aott6"
   },
   "outputs": [
    {
     "data": {
      "image/png": "[encoded data removed]",
      "text/plain": [
       "<Figure size 432x288 with 1 Axes>"
      ]
     },
     "metadata": {
      "needs_background": "light"
     },
     "output_type": "display_data"
    }
   ],
   "source": [
    "plt.scatter(X, y)\n",
    "plt.plot(X, y_hat, color=\"#00aa12\")\n",
    "plt.show()"
   ]
  },
  {
   "cell_type": "markdown",
   "metadata": {
    "id": "j45fNRvUott8"
   },
   "source": [
    "c) Now, fit a linear regression model using Gradient Descent. Print out the parameters $A$ and $b$."
   ]
  },
  {
   "cell_type": "code",
   "execution_count": 5,
   "metadata": {
    "id": "0yeBTn96ott8"
   },
   "outputs": [
    {
     "name": "stdout",
     "output_type": "stream",
     "text": [
      "A =  4.43927484579895\n",
      "b =  3.3303531316860004\n"
     ]
    },
    {
     "name": "stderr",
     "output_type": "stream",
     "text": [
      "/Users/jake/anaconda3/lib/python3.7/site-packages/sklearn/utils/validation.py:724: DataConversionWarning: A column-vector y was passed when a 1d array was expected. Please change the shape of y to (n_samples, ), for example using ravel().\n",
      "  y = column_or_1d(y, warn=True)\n"
     ]
    }
   ],
   "source": [
    "grad_des = SGDRegressor()\n",
    "\n",
    "grad_des.fit(X,y)\n",
    "y_hat2 = grad_des.predict(X)\n",
    "\n",
    "# Returns the A and b values from the model\n",
    "A2 = grad_des.coef_[0]\n",
    "b2 = grad_des.intercept_[0]\n",
    "print(\"A = \", A2)\n",
    "print(\"b = \", b2)"
   ]
  },
  {
   "cell_type": "markdown",
   "metadata": {
    "id": "AFyYnKvLott-"
   },
   "source": [
    "Visualize your result in a 2-D plot similar to that in part **b**. Compare your results from both parts."
   ]
  },
  {
   "cell_type": "code",
   "execution_count": 6,
   "metadata": {
    "id": "sv2sHAXVott-"
   },
   "outputs": [
    {
     "data": {
      "image/png": "[encoded data removed]",
      "text/plain": [
       "<Figure size 432x288 with 1 Axes>"
      ]
     },
     "metadata": {
      "needs_background": "light"
     },
     "output_type": "display_data"
    }
   ],
   "source": [
    "plt.scatter(X,y)\n",
    "plt.plot(X, y_hat2, color=\"#dd1400\")\n",
    "plt.show()"
   ]
  },
  {
   "cell_type": "markdown",
   "metadata": {},
   "source": [
    "<span style=\"color:#dd1234\">\n",
    "    \n",
    "Linear regression gives us a higher slope (coefficent), but a lower intercept, while gradient descent gives us a higher intercept, but a lower slope (coefficent). Since linear regression takes sum of squares into account when calculating slope, the slope could be more exaggerated based on the outliers on both x and y-axes. Since gradient descent calculates weight scores for its training data, its slope would be less exaggerated by maxima and minima from the x and y-axes, causing its intercept to be closer to the mean and the slope to have a smaller magnitude to match the data cluster.\n",
    "\n",
    "</span>"
   ]
  },
  {
   "cell_type": "markdown",
   "metadata": {
    "id": "pJjfeIAuotuA"
   },
   "source": [
    "## Problem 3\n",
    "\n",
    "In this problem, you will train classifiers using two widely used algorithms, Support Vector Machine (SVM) and Random Forest (RF). You will train and fine-tune each model using cross-validation (CV). After that, you will compare the performance of SVM and RF for this problem."
   ]
  },
  {
   "cell_type": "markdown",
   "metadata": {
    "id": "34BoVBR3otuA"
   },
   "source": [
    "a) A 13-D dataset with labels is given in **'wine.csv'**. The last column contains the labels. Store the data and the labels in variables ***X*** and ***y***, respectively."
   ]
  },
  {
   "cell_type": "code",
   "execution_count": 7,
   "metadata": {
    "id": "SRn_EaZqotuB"
   },
   "outputs": [],
   "source": [
    "X = pd.read_csv('wine.csv', header=None).iloc[:,0:13].values # REMEMBER: Python stores indices from 0 to 13-1\n",
    "y = pd.read_csv('wine.csv', header=None).iloc[:,13].values"
   ]
  },
  {
   "cell_type": "markdown",
   "metadata": {
    "id": "XhA84qMtotuD"
   },
   "source": [
    "Split the data into a train set and a test set. The size of the train set is 90% of the dataset."
   ]
  },
  {
   "cell_type": "code",
   "execution_count": 8,
   "metadata": {
    "id": "w-rLDnz2otuD"
   },
   "outputs": [],
   "source": [
    "from sklearn.model_selection import train_test_split\n",
    "\n",
    "Xtrain, Xtest, Ytrain, Ytest = train_test_split(X, y, test_size=0.1)"
   ]
  },
  {
   "cell_type": "markdown",
   "metadata": {
    "id": "XzmsEV8HotuF"
   },
   "source": [
    "b) Find a good SVM model by performing 10-fold CV on the train set. Try different set of model parameters and record the resulting model performance during CV. Print out your best model's parameters and its performance (accuracy)."
   ]
  },
  {
   "cell_type": "code",
   "execution_count": 28,
   "metadata": {
    "id": "UkOVB_IKotuF"
   },
   "outputs": [
    {
     "name": "stderr",
     "output_type": "stream",
     "text": [
      "/Users/jake/anaconda3/lib/python3.7/site-packages/sklearn/model_selection/_search.py:813: DeprecationWarning: The default of the `iid` parameter will change from True to False in version 0.22 and will be removed in 0.24. This will change numeric results when test-set sizes are unequal.\n",
      "  DeprecationWarning)\n"
     ]
    },
    {
     "name": "stdout",
     "output_type": "stream",
     "text": [
      "Gradient Boost Classifier mean test score = 0.9625\n",
      "SVC mean test score = 0.96875\n"
     ]
    },
    {
     "name": "stderr",
     "output_type": "stream",
     "text": [
      "/Users/jake/anaconda3/lib/python3.7/site-packages/sklearn/model_selection/_search.py:813: DeprecationWarning: The default of the `iid` parameter will change from True to False in version 0.22 and will be removed in 0.24. This will change numeric results when test-set sizes are unequal.\n",
      "  DeprecationWarning)\n"
     ]
    },
    {
     "data": {
      "text/plain": [
       "{'degree': 1, 'gamma': 'auto', 'kernel': 'poly', 'random_state': 0}"
      ]
     },
     "execution_count": 28,
     "metadata": {},
     "output_type": "execute_result"
    }
   ],
   "source": [
    "# A few methods to get you started with CV. \n",
    "# You are encouraged to look into the model_selection module of Scikit-learn to find tools that best fit your need.\n",
    "from sklearn.model_selection import StratifiedKFold, GridSearchCV, ParameterGrid\n",
    "from sklearn.svm import SVC\n",
    "from sklearn.metrics import accuracy_score\n",
    "from sklearn.ensemble import GradientBoostingClassifier\n",
    "\n",
    "# ~~~~~ Gradient Boost Classifier ~~~~~\n",
    "grs_pars = {}\n",
    "gbc = GradientBoostingClassifier()\n",
    "grs = GridSearchCV(gbc, grs_pars, cv=10)\n",
    "\n",
    "grs.fit(Xtrain, Ytrain)\n",
    "print(\"Gradient Boost Classifier mean test score =\", grs.cv_results_['mean_test_score'].max())\n",
    "\n",
    "# ~~~~~ SVC ~~~~~\n",
    "srs_pars = {'kernel':['linear', 'poly', 'rbf'], 'gamma':['auto'], 'degree':[1,2,3,4], 'random_state':[0,1,2,3]}\n",
    "svc = SVC()\n",
    "srs = GridSearchCV(svc, srs_pars, cv=10)\n",
    "\n",
    "srs.fit(Xtrain, Ytrain)\n",
    "print(\"SVC mean test score =\", srs.cv_results_['mean_test_score'].max())\n",
    "srs.best_params_"
   ]
  },
  {
   "cell_type": "markdown",
   "metadata": {
    "id": "QftYtzFW-i0E"
   },
   "source": [
    "Now train your best SVM model on the whole train dataset and test it on the test set. Print out your model's performance."
   ]
  },
  {
   "cell_type": "code",
   "execution_count": 30,
   "metadata": {
    "id": "9qCn-sLV_Zhc"
   },
   "outputs": [
    {
     "name": "stdout",
     "output_type": "stream",
     "text": [
      "Test accuracy = 0.83333\n"
     ]
    },
    {
     "name": "stderr",
     "output_type": "stream",
     "text": [
      "/Users/jake/anaconda3/lib/python3.7/site-packages/sklearn/model_selection/_search.py:813: DeprecationWarning: The default of the `iid` parameter will change from True to False in version 0.22 and will be removed in 0.24. This will change numeric results when test-set sizes are unequal.\n",
      "  DeprecationWarning)\n"
     ]
    }
   ],
   "source": [
    "srs_best = GridSearchCV(SVC(), {'kernel':['linear'],'gamma':['auto'], 'degree':[1], 'random_state':[0]}, cv=10)\n",
    "srs_best.fit(Xtrain, Ytrain)\n",
    "\n",
    "Yhat = srs_best.predict(Xtest)\n",
    "\n",
    "print(\"Test accuracy = %.5f\" % accuracy_score(Ytest, Yhat))"
   ]
  },
  {
   "cell_type": "markdown",
   "metadata": {
    "id": "mTsl_Cc8otuH"
   },
   "source": [
    "c) Similarly, find a good RF model by performing 10-fold CV on the train set. Print out your best model's parameters and its performance (accuracy)."
   ]
  },
  {
   "cell_type": "code",
   "execution_count": 33,
   "metadata": {
    "id": "bzWFF9MvotuH"
   },
   "outputs": [
    {
     "name": "stdout",
     "output_type": "stream",
     "text": [
      "Random Forest Classifier mean test score = 0.98125\n"
     ]
    },
    {
     "name": "stderr",
     "output_type": "stream",
     "text": [
      "/Users/jake/anaconda3/lib/python3.7/site-packages/sklearn/model_selection/_search.py:813: DeprecationWarning: The default of the `iid` parameter will change from True to False in version 0.22 and will be removed in 0.24. This will change numeric results when test-set sizes are unequal.\n",
      "  DeprecationWarning)\n"
     ]
    },
    {
     "data": {
      "text/plain": [
       "{'max_depth': 2, 'n_estimators': 10, 'random_state': 2}"
      ]
     },
     "execution_count": 33,
     "metadata": {},
     "output_type": "execute_result"
    }
   ],
   "source": [
    "from sklearn.ensemble import RandomForestClassifier\n",
    "\n",
    "rfc = RandomForestClassifier()\n",
    "rfc_pars = {'n_estimators':[1,5,10,15,20], 'max_depth':[1,2,3], 'random_state':[0,1,2,3]}\n",
    "rrs = GridSearchCV(rfc, rfc_pars, cv=10)\n",
    "\n",
    "rrs.fit(Xtrain, Ytrain)\n",
    "print(\"Random Forest Classifier mean test score =\", rrs.cv_results_['mean_test_score'].max())\n",
    "rrs.best_params_"
   ]
  },
  {
   "cell_type": "markdown",
   "metadata": {
    "id": "5mfjPPRK_do8"
   },
   "source": [
    "Test your best RF model on the test set. Print out your model's performance."
   ]
  },
  {
   "cell_type": "code",
   "execution_count": 60,
   "metadata": {
    "id": "35f4P7h2_w61"
   },
   "outputs": [
    {
     "name": "stdout",
     "output_type": "stream",
     "text": [
      "Test accuracy = 1.00000\n"
     ]
    },
    {
     "name": "stderr",
     "output_type": "stream",
     "text": [
      "/Users/jake/anaconda3/lib/python3.7/site-packages/sklearn/model_selection/_search.py:813: DeprecationWarning: The default of the `iid` parameter will change from True to False in version 0.22 and will be removed in 0.24. This will change numeric results when test-set sizes are unequal.\n",
      "  DeprecationWarning)\n"
     ]
    }
   ],
   "source": [
    "best_pars = {'max_depth': [2], 'n_estimators': [10], 'random_state': [2]}\n",
    "rrs_best = GridSearchCV(rfc, best_pars, cv=10)\n",
    "rrs_best.fit(Xtrain, Ytrain)\n",
    "\n",
    "Yhat_forest = rrs_best.predict(Xtest)\n",
    "print(\"Test accuracy = %.5f\" % accuracy_score(Ytest, Yhat_forest))"
   ]
  },
  {
   "cell_type": "markdown",
   "metadata": {
    "id": "QMWu3IBStbRq"
   },
   "source": [
    "d) Compare the 2 models. Why do we need CV?"
   ]
  },
  {
   "cell_type": "markdown",
   "metadata": {},
   "source": [
    "<span style=\"color:#dd1234\">\n",
    "\n",
    "Random forest does a better job classifying the variables in both the test and training data. However, random forest's accuracy seems to good to be true since it is 1.0000.\n",
    "\n",
    "We need cross-validation to make sure our predictions are repeatable and not overfitted. The fewer reptitions used to validate a model, the more likely its accuracy could be overfitted to a single set of training data.\n",
    "\n",
    "</span>"
   ]
  },
  {
   "cell_type": "markdown",
   "metadata": {
    "id": "uac965pmotuL"
   },
   "source": [
    "## Problem 4\n",
    "\n",
    "### Skip for Homework 1; Save for Homework 2\n",
    "\n",
    "In this problem, you will work on the clustering problem using Bottom-up Agglomerative clustering and K-mean clustering."
   ]
  },
  {
   "cell_type": "markdown",
   "metadata": {
    "id": "YYox5r6IotuL"
   },
   "source": [
    "a) A 4-D dataset is given in **'iris.csv'** with the last column being the ground truth label. Load the file. Store the data in a variable ***X*** and store the label in a variable ***y***. Because clustering is an unsupervised task, there is no need for the labels during training."
   ]
  },
  {
   "cell_type": "code",
   "execution_count": null,
   "metadata": {
    "id": "Wf0fueP1otuM"
   },
   "outputs": [],
   "source": []
  },
  {
   "cell_type": "markdown",
   "metadata": {
    "id": "UzQL_DImotuN"
   },
   "source": [
    "b) Train a clustering model using Bottom-up Agglomerative clustering."
   ]
  },
  {
   "cell_type": "code",
   "execution_count": 13,
   "metadata": {
    "id": "r90ogg-FotuO"
   },
   "outputs": [],
   "source": [
    "from sklearn.cluster import AgglomerativeClustering\n"
   ]
  },
  {
   "cell_type": "markdown",
   "metadata": {
    "id": "Fsr5q1nFotuP"
   },
   "source": [
    "Visualize your clusters on a 2-D plot. Choose any 2 dimensions from the 4 dimensions to plot. Try to pick the 2 dimensions that best separate the data. Your plot should contains all the data points with points from the same predicted cluster haveing the same color. "
   ]
  },
  {
   "cell_type": "code",
   "execution_count": null,
   "metadata": {
    "id": "q5gBODR5otuQ"
   },
   "outputs": [],
   "source": []
  },
  {
   "cell_type": "markdown",
   "metadata": {
    "id": "1iEBekEy1SIK"
   },
   "source": [
    "Repeat the visualization step above using the same 2 dimensions. This time, plot according to the ground truth classes. Comment on the performance of your model."
   ]
  },
  {
   "cell_type": "code",
   "execution_count": null,
   "metadata": {
    "id": "p3lf0Xrv1w6X"
   },
   "outputs": [],
   "source": []
  },
  {
   "cell_type": "markdown",
   "metadata": {
    "id": "W9PfTf2sotuR"
   },
   "source": [
    "c) Train a clustering model using K-mean clustering."
   ]
  },
  {
   "cell_type": "code",
   "execution_count": 14,
   "metadata": {
    "id": "G5qzh74NotuR"
   },
   "outputs": [],
   "source": [
    "from sklearn.cluster import KMeans\n"
   ]
  },
  {
   "cell_type": "markdown",
   "metadata": {
    "id": "htqJKZCrotuT"
   },
   "source": [
    "Visualize your clusters on a 2-D plot. Choose any 2 dimensions from the 4 dimensions to plot. Try to pick the 2 dimensions that best separate the data. Your plot should contains all the data points with points from the same predicted cluster haveing the same color."
   ]
  },
  {
   "cell_type": "code",
   "execution_count": null,
   "metadata": {
    "id": "deWqhR4potuT"
   },
   "outputs": [],
   "source": []
  },
  {
   "cell_type": "markdown",
   "metadata": {
    "id": "Da9qg3Wi1358"
   },
   "source": [
    "Repeat the visualization step above using the same 2 dimensions. This time, plot according to the ground truth classes. Comment on the performance of your model."
   ]
  },
  {
   "cell_type": "code",
   "execution_count": null,
   "metadata": {
    "id": "Z7EgKmxx17_s"
   },
   "outputs": [],
   "source": []
  },
  {
   "cell_type": "markdown",
   "metadata": {
    "id": "b-8WjIaNotuV"
   },
   "source": [
    "d) Perform Principle Component Analysis (PCA) on the data. Project the original data on the 2 largest principle components. Store this new projected 2-D data in a variable ***X_projected***."
   ]
  },
  {
   "cell_type": "code",
   "execution_count": 15,
   "metadata": {
    "id": "Jnx5i9NwotuV"
   },
   "outputs": [],
   "source": [
    "from sklearn.decomposition import PCA\n"
   ]
  },
  {
   "cell_type": "markdown",
   "metadata": {
    "id": "c4VFnvdTotuW"
   },
   "source": [
    "Repeat part **b** on the new 2-D data. Train the Bottom-up Agglomerative model and visualize your results."
   ]
  },
  {
   "cell_type": "code",
   "execution_count": null,
   "metadata": {
    "id": "sLhLTY-PotuX"
   },
   "outputs": [],
   "source": []
  },
  {
   "cell_type": "markdown",
   "metadata": {
    "id": "ZhXg9gKEotuY"
   },
   "source": [
    "Repeat part **c** on the new 2-D data. Train the K-means model and visualize your result."
   ]
  },
  {
   "cell_type": "code",
   "execution_count": null,
   "metadata": {
    "id": "o8jwbAElotuZ"
   },
   "outputs": [],
   "source": []
  },
  {
   "cell_type": "markdown",
   "metadata": {
    "id": "Fz5Wc_dgotua"
   },
   "source": [
    "Compare the quality of 4-D and 2-D clusterings. When would the ideas of projection and dimensionality reduction be useful?"
   ]
  },
  {
   "cell_type": "markdown",
   "metadata": {
    "id": "WmsQa5XEHUau"
   },
   "source": [
    "## Problem 5\n",
    "\n",
    "What is the hypothesis space for problems 1-3? What are the pros and cons of having a large hypothesis space? "
   ]
  },
  {
   "cell_type": "markdown",
   "metadata": {},
   "source": [
    "<span style=\"color:#dd1234\">\n",
    "\n",
    "The hypothesis space for problems 1-3 are the splits used by the X variables used to predict the response variable Y.\n",
    "\n",
    "The benefit of having a large hypothesis space is that it can cover many unique data points within the data. For example, points with higher dimensionality will be more likely to be properly classified within a large hypothesis space than in a smaller hypothesis space. In addition, it can be applied to datasets with larger amounts of variables without the worrying of underfitting the data. However, the problem of having a large hypothesis space is that it can easily overfit data and misinterpret test data. For example, if a loan has certain variables that justify its usage, assigning too many hyperparameters to the space will cause similar data points to be classified very differently and take a toll on the prediction's accuracy.\n",
    "\n",
    "</span>"
   ]
  },
  {
   "cell_type": "markdown",
   "metadata": {
    "id": "xYuqFx8xHa1M"
   },
   "source": [
    "## Problem 6\n",
    "\n",
    "Suppose we find the best binary classifier for a set of red points and another binary classifier for a set of blue points. Now, suppose we are given a new set of $R$ red and $B$ blue points that we can predict to be positive or negative. If we have to choose a subset of $k$ positive points from $R$ union $B$, what would be fair way for choosing. \n",
    "\n",
    "You are given a red dataset in 'R.csv' and a blue dataset in 'B.csv'. There is also a third test dataset in 'RBtest.csv'."
   ]
  },
  {
   "cell_type": "markdown",
   "metadata": {
    "id": "jFV_vm-orpDp"
   },
   "source": [
    "a) Load the datasets. All datasets are 2-D with the last column containing the labels. "
   ]
  },
  {
   "cell_type": "code",
   "execution_count": 36,
   "metadata": {
    "id": "FZBjsepYHf5P"
   },
   "outputs": [],
   "source": [
    "Xtrain_r = pd.read_csv(\"R.csv\", header=None).iloc[:,0:2].values\n",
    "Ytrain_r = pd.read_csv(\"R.csv\", header=None).iloc[:,2].values\n",
    "\n",
    "Xtrain_b = pd.read_csv(\"B.csv\", header=None).iloc[:,0:2].values\n",
    "Ytrain_b = pd.read_csv(\"B.csv\", header=None).iloc[:,2].values\n",
    "\n",
    "Xtest_rb = pd.read_csv(\"RBtest.csv\", header=None).iloc[:,0:2].values\n",
    "Ytest_rb = pd.read_csv(\"RBtest.csv\", header=None).iloc[:,2].values"
   ]
  },
  {
   "cell_type": "markdown",
   "metadata": {
    "id": "RemkSEnPr1IB"
   },
   "source": [
    "b) Train 2 classifiers, one for the red dataset and the other for the blue dataset. You are free to choose the learning algorithm. "
   ]
  },
  {
   "cell_type": "code",
   "execution_count": 53,
   "metadata": {
    "id": "oFuY0Y8qsNh-"
   },
   "outputs": [
    {
     "name": "stderr",
     "output_type": "stream",
     "text": [
      "/Users/jake/anaconda3/lib/python3.7/site-packages/sklearn/model_selection/_search.py:813: DeprecationWarning: The default of the `iid` parameter will change from True to False in version 0.22 and will be removed in 0.24. This will change numeric results when test-set sizes are unequal.\n",
      "  DeprecationWarning)\n",
      "/Users/jake/anaconda3/lib/python3.7/site-packages/sklearn/model_selection/_search.py:813: DeprecationWarning: The default of the `iid` parameter will change from True to False in version 0.22 and will be removed in 0.24. This will change numeric results when test-set sizes are unequal.\n",
      "  DeprecationWarning)\n",
      "/Users/jake/anaconda3/lib/python3.7/site-packages/sklearn/model_selection/_search.py:813: DeprecationWarning: The default of the `iid` parameter will change from True to False in version 0.22 and will be removed in 0.24. This will change numeric results when test-set sizes are unequal.\n",
      "  DeprecationWarning)\n"
     ]
    },
    {
     "name": "stdout",
     "output_type": "stream",
     "text": [
      "Mean Test Scores for the red training dataset:\n",
      "SVC (Support Vector Classifier): 0.8875\n",
      "Gradient Boost Classifier: 0.9062\n",
      "Random Forest Classifier: 0.9062\n",
      "\n",
      "Best parameters for each classifier:\n",
      "SVC (Support Vector Classifier):  {'degree': 1, 'gamma': 'auto', 'kernel': 'linear', 'random_state': 0}\n",
      "Gradient Boost Classifier:  {'max_depth': 3, 'n_estimators': 15, 'random_state': 0}\n",
      "Random Forest Classifier:  {'max_depth': 3, 'n_estimators': 5, 'random_state': 10}\n",
      "\n"
     ]
    },
    {
     "name": "stderr",
     "output_type": "stream",
     "text": [
      "/Users/jake/anaconda3/lib/python3.7/site-packages/sklearn/model_selection/_search.py:813: DeprecationWarning: The default of the `iid` parameter will change from True to False in version 0.22 and will be removed in 0.24. This will change numeric results when test-set sizes are unequal.\n",
      "  DeprecationWarning)\n"
     ]
    },
    {
     "name": "stdout",
     "output_type": "stream",
     "text": [
      "Mean Test Scores for the blue training dataset:\n",
      "SVC (Support Vector Classifier): 0.8750\n",
      "Gradient Boost Classifier: 0.8625\n",
      "Random Forest Classifier: 0.8875\n",
      "\n",
      "Best parameters for each classifier:\n",
      "SVC (Support Vector Classifier):  {'degree': 1, 'gamma': 'auto', 'kernel': 'linear', 'random_state': 0}\n",
      "Gradient Boost Classifier:  {'max_depth': 1, 'n_estimators': 5, 'random_state': 0}\n",
      "Random Forest Classifier:  {'max_depth': 1, 'n_estimators': 10, 'random_state': 3}\n"
     ]
    },
    {
     "name": "stderr",
     "output_type": "stream",
     "text": [
      "/Users/jake/anaconda3/lib/python3.7/site-packages/sklearn/model_selection/_search.py:813: DeprecationWarning: The default of the `iid` parameter will change from True to False in version 0.22 and will be removed in 0.24. This will change numeric results when test-set sizes are unequal.\n",
      "  DeprecationWarning)\n"
     ]
    }
   ],
   "source": [
    "# Random states\n",
    "random_range = [i for i in range(0,15+1)]\n",
    "\n",
    "# SVC (Support Vector Classifer) method:\n",
    "srs_pars = {'kernel':['linear'], 'gamma':['auto'], 'degree':[1,2,3,4], 'random_state':random_range}\n",
    "svc = SVC()\n",
    "srs = GridSearchCV(svc, srs_pars, cv=10)\n",
    "\n",
    "# Gradient Boost Classifier method:\n",
    "grs_pars = {'n_estimators':[5,10,15,20,25,30], 'max_depth':[1,2,3,4], 'random_state':random_range}\n",
    "gbc = GradientBoostingClassifier()\n",
    "grs = GridSearchCV(gbc, grs_pars, cv=10)\n",
    "\n",
    "# Random Forest Classifier method:\n",
    "rfc = RandomForestClassifier()\n",
    "rfc_pars = {'n_estimators':[5,10,15,20,25,30], 'max_depth':[1,2,3,4], 'random_state':random_range}\n",
    "rrs = GridSearchCV(rfc, rfc_pars, cv=10)\n",
    "\n",
    "# Fit methods to the red training dataset:\n",
    "srs.fit(Xtrain_r, Ytrain_r)\n",
    "grs.fit(Xtrain_r, Ytrain_r)\n",
    "rrs.fit(Xtrain_r, Ytrain_r)\n",
    "\n",
    "print(\"Mean Test Scores for the red training dataset:\")\n",
    "print(\"SVC (Support Vector Classifier): %.4f\" % srs.cv_results_['mean_test_score'].max())\n",
    "print(\"Gradient Boost Classifier: %.4f\" % grs.cv_results_['mean_test_score'].max())\n",
    "print(\"Random Forest Classifier: %.4f\" % rrs.cv_results_['mean_test_score'].max())\n",
    "print(\"\")\n",
    "print(\"Best parameters for each classifier:\")\n",
    "print(\"SVC (Support Vector Classifier): \", srs.best_params_)\n",
    "print(\"Gradient Boost Classifier: \", grs.best_params_)\n",
    "print(\"Random Forest Classifier: \", rrs.best_params_)\n",
    "\n",
    "print(\"\")\n",
    "\n",
    "# Fit methods to the red training dataset:\n",
    "srs.fit(Xtrain_b, Ytrain_b)\n",
    "grs.fit(Xtrain_b, Ytrain_b)\n",
    "rrs.fit(Xtrain_b, Ytrain_b)\n",
    "\n",
    "print(\"Mean Test Scores for the blue training dataset:\")\n",
    "print(\"SVC (Support Vector Classifier): %.4f\" % srs.cv_results_['mean_test_score'].max())\n",
    "print(\"Gradient Boost Classifier: %.4f\" % grs.cv_results_['mean_test_score'].max())\n",
    "print(\"Random Forest Classifier: %.4f\" % rrs.cv_results_['mean_test_score'].max())\n",
    "print(\"\")\n",
    "print(\"Best parameters for each classifier:\")\n",
    "print(\"SVC (Support Vector Classifier): \", srs.best_params_)\n",
    "print(\"Gradient Boost Classifier: \", grs.best_params_)\n",
    "print(\"Random Forest Classifier: \", rrs.best_params_)"
   ]
  },
  {
   "cell_type": "markdown",
   "metadata": {
    "id": "bRp8Q1g6sQZW"
   },
   "source": [
    "c) Now use your models to classify instances in the test dataset. The models may agree on many points but may also disagree on many other points. Let's call the set of positive points classified by the red model $P_r$ and the set of positive points classified by the blue model $P_b$. You are asked to pick out $k$ points from the set $P_r \\cup P_b$. What is a fair way to do this? Demonstrate your answer with code and visualizations. "
   ]
  },
  {
   "cell_type": "code",
   "execution_count": 54,
   "metadata": {
    "id": "INVo2ChrtSOm"
   },
   "outputs": [
    {
     "name": "stdout",
     "output_type": "stream",
     "text": [
      "Test accuracy using red's best classifier = 0.80000\n",
      "Test accuracy using blue's best classifier = 0.85000\n"
     ]
    },
    {
     "name": "stderr",
     "output_type": "stream",
     "text": [
      "/Users/jake/anaconda3/lib/python3.7/site-packages/sklearn/model_selection/_search.py:813: DeprecationWarning: The default of the `iid` parameter will change from True to False in version 0.22 and will be removed in 0.24. This will change numeric results when test-set sizes are unequal.\n",
      "  DeprecationWarning)\n",
      "/Users/jake/anaconda3/lib/python3.7/site-packages/sklearn/model_selection/_search.py:813: DeprecationWarning: The default of the `iid` parameter will change from True to False in version 0.22 and will be removed in 0.24. This will change numeric results when test-set sizes are unequal.\n",
      "  DeprecationWarning)\n"
     ]
    }
   ],
   "source": [
    "rrs_best = GridSearchCV(rfc, {'max_depth': [3], 'n_estimators': [5], 'random_state': [10]}, cv=10)\n",
    "rrs_best.fit(Xtrain_r, Ytrain_r)\n",
    "Yhat_rb = rrs_best.predict(Xtest_rb)\n",
    "print(\"Test accuracy using red's best classifier = %.5f\" % accuracy_score(Ytest_rb, Yhat_rb))\n",
    "\n",
    "rrs_best = GridSearchCV(rfc, {'max_depth': [1], 'n_estimators': [10], 'random_state': [3]}, cv=10)\n",
    "rrs_best.fit(Xtrain_b, Ytrain_b)\n",
    "Yhat_rb = rrs_best.predict(Xtest_rb)\n",
    "print(\"Test accuracy using blue's best classifier = %.5f\" % accuracy_score(Ytest_rb, Yhat_rb))"
   ]
  },
  {
   "cell_type": "code",
   "execution_count": null,
   "metadata": {},
   "outputs": [],
   "source": []
  }
 ],
 "metadata": {
  "colab": {
   "collapsed_sections": [],
   "name": "HW1.ipynb",
   "provenance": []
  },
  "kernelspec": {
   "display_name": "Python 3",
   "language": "python",
   "name": "python3"
  },
  "language_info": {
   "codemirror_mode": {
    "name": "ipython",
    "version": 3
   },
   "file_extension": ".py",
   "mimetype": "text/x-python",
   "name": "python",
   "nbconvert_exporter": "python",
   "pygments_lexer": "ipython3",
   "version": "3.7.3"
  }
 },
 "nbformat": 4,
 "nbformat_minor": 1
}
